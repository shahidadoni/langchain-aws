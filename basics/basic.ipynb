{
 "cells": [
  {
   "cell_type": "code",
   "execution_count": 23,
   "metadata": {},
   "outputs": [
    {
     "name": "stdout",
     "output_type": "stream",
     "text": [
      "AWS (|Amazon Web Services) is a comprehensive| and widely adopted cloud computing platform offere|d by Amazon.com. Launched in 2|006, AWS provides a vast| array of cloud services that| enable businesses, organizations, and individuals| to build and manage| various applications and services through| Amazon's global network of data centers.|\n",
      "\n",
      "Key features of AWS include|:\n",
      "\n",
      "1. Compute| services: Amazon EC2 (|Elastic Compute Cloud)| for scalable virtual| servers, AWS Lambda for serverless| computing, and more|.\n",
      "\n",
      "2. Storage solutions|: Amazon S3 (|Simple Storage Service) for object| storage, Amazon EBS (Elastic| Block Store) for block storage, an|d various database services.\n",
      "\n",
      "3|. Networking: Amazon| VPC (Virtual Private Cloud) for| isolated cloud resources, AWS Direct| Connect for dedicated network connections|, and content delivery through| Amazon CloudFront.|\n",
      "\n",
      "4. Security an|d identity services: AWS IAM| (Identity and Access| Management), encryption tools|, and compliance certifications.|\n",
      "\n",
      "5. Analytics and machine| learning: Amazon Re|dshift for data ware|housing, Amazon| EMR for big data processing|, and various AI and machine learning services.|\n",
      "\n",
      "6. Management tools|: AWS CloudWatch for monitoring, AWS| CloudFormation for infrastructure| as code, and AWS Systems Manager for| operational insights.\n",
      "\n",
      "AWS offers| a pay-as-you|-go pricing model,| allowing users to scale resources base|d on their needs. It| serves millions of customers worldwide,| including startups, large| enterprises, and government agencies,| providing the infrastructure to build sophisticate|d applications with increased flexibility|, scalability, and reliability|.\n",
      "\n",
      "The platform contin|ually evolves,| regularly introducing new services| and features to meet| emerging technology trends and customer| demands. AWS's| global infrastructure, extensive service| offerings, and robust| ecosystem of partners and developers have establishe|d it as a leader in the cloud computing| industry.||"
     ]
    }
   ],
   "source": [
    "import os\n",
    "from dotenv import load_dotenv\n",
    "from langchain.chat_models import init_chat_model\n",
    "from langchain_core.messages import HumanMessage, SystemMessage\n",
    "\n",
    "# Load environment variables\n",
    "load_dotenv()\n",
    "\n",
    "# Initialize the model\n",
    "model = init_chat_model(os.getenv(\"BEDROCK_MODEL_ID\"), model_provider=\"bedrock_converse\", aws_access_key_id=os.getenv(\"AWS_ACCESS_KEY_ID\"), aws_secret_access_key=os.getenv(\"AWS_SECRET_ACCESS_KEY\"), region_name=os.getenv(\"AWS_REGION\"))\n",
    "\n",
    "response = model.stream(\"Write a brief about aws\")\n",
    "\n",
    "for chunk in response:\n",
    "    for part in chunk.content:\n",
    "        print(part.get(\"text\", \"\"), end=\"\", flush=True)\n"
   ]
  }
 ],
 "metadata": {
  "kernelspec": {
   "display_name": "venv",
   "language": "python",
   "name": "python3"
  },
  "language_info": {
   "codemirror_mode": {
    "name": "ipython",
    "version": 3
   },
   "file_extension": ".py",
   "mimetype": "text/x-python",
   "name": "python",
   "nbconvert_exporter": "python",
   "pygments_lexer": "ipython3",
   "version": "3.12.6"
  }
 },
 "nbformat": 4,
 "nbformat_minor": 2
}
