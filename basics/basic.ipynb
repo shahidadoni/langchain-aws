{
 "cells": [
  {
   "cell_type": "code",
   "execution_count": 4,
   "metadata": {},
   "outputs": [
    {
     "name": "stdout",
     "output_type": "stream",
     "text": [
      "content=\"Hello! I'm doing well, thank you for asking. As an AI assistant, I don't have feelings, but I'm functioning properly and ready to help you with any questions or tasks you might have. How can I assist you today?\" additional_kwargs={} response_metadata={'ResponseMetadata': {'RequestId': '1548cb66-b0c3-485a-8c29-5b15cd3ec8ed', 'HTTPStatusCode': 200, 'HTTPHeaders': {'date': 'Mon, 21 Apr 2025 14:33:48 GMT', 'content-type': 'application/json', 'content-length': '392', 'connection': 'keep-alive', 'x-amzn-requestid': '1548cb66-b0c3-485a-8c29-5b15cd3ec8ed'}, 'RetryAttempts': 0}, 'stopReason': 'end_turn', 'metrics': {'latencyMs': [1314]}, 'model_name': 'anthropic.claude-3-5-sonnet-20240620-v1:0'} id='run-ab418861-16a0-48c2-af6b-b1eb9770cd7e-0' usage_metadata={'input_tokens': 13, 'output_tokens': 52, 'total_tokens': 65, 'input_token_details': {'cache_creation': 0, 'cache_read': 0}}\n"
     ]
    }
   ],
   "source": [
    "import os\n",
    "from dotenv import load_dotenv\n",
    "from langchain.chat_models import init_chat_model\n",
    "\n",
    "# Load environment variables\n",
    "load_dotenv()\n",
    "\n",
    "# Initialize the model\n",
    "model = init_chat_model(os.getenv(\"BEDROCK_MODEL_ID\"), model_provider=\"bedrock_converse\", aws_access_key_id=os.getenv(\"AWS_ACCESS_KEY_ID\"), aws_secret_access_key=os.getenv(\"AWS_SECRET_ACCESS_KEY\"), region_name=os.getenv(\"AWS_REGION\"))\n",
    "\n",
    "# Test the model\n",
    "response = model.invoke(\"Hello, how are you?\")\n",
    "print(response)\n",
    "\n"
   ]
  }
 ],
 "metadata": {
  "kernelspec": {
   "display_name": "venv",
   "language": "python",
   "name": "python3"
  },
  "language_info": {
   "codemirror_mode": {
    "name": "ipython",
    "version": 3
   },
   "file_extension": ".py",
   "mimetype": "text/x-python",
   "name": "python",
   "nbconvert_exporter": "python",
   "pygments_lexer": "ipython3",
   "version": "3.12.6"
  }
 },
 "nbformat": 4,
 "nbformat_minor": 2
}
